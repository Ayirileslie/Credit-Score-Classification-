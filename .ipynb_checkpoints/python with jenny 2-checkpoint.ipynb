{
 "cells": [
  {
   "cell_type": "code",
   "execution_count": null,
   "id": "96402825",
   "metadata": {},
   "outputs": [],
   "source": [
    "height = int(input('what is your height? '))\n",
    "\n",
    "bill =0\n",
    "\n",
    "if height >=3:\n",
    "    print('can ride')\n",
    "    age =int(input('What is your age? '))\n",
    "    if age<12:\n",
    "        bill=150\n",
    "        print('Ticket price is 150Rs.')\n",
    "    elif age<=18:\n",
    "        bill =250\n",
    "        print('Ticket price is 250Rs.')\n",
    "    else:\n",
    "        bill =500\n",
    "        print('Ticket price is 500Rs. ')\n",
    "        \n",
    "    want_photo =input('Do you want to take photo(Y/N)? ')\n",
    "    if want_photo =='Y' or want_photo=='y':\n",
    "        bill =bill+50\n",
    "    print(f'Your total bill is {bill}')\n",
    "    \n",
    "#else:\n",
    "   # print('cant ride')\n",
    "print('Bye')"
   ]
  },
  {
   "cell_type": "code",
   "execution_count": null,
   "id": "925b23b9",
   "metadata": {},
   "outputs": [],
   "source": [
    "# pizza order program\n",
    "\n",
    "size = input('What pizza size do you want to order(S/M/L)? ')\n",
    "bill =0\n",
    "if size =='S' or size =='s':\n",
    "    bill +=100\n",
    "    print('Small pizza size is 100Rs. ')\n",
    "elif size=='m' or size=='M':\n",
    "    bill+=200\n",
    "    print('Medium pizza size is 200Rs. ')\n",
    "else:\n",
    "    bill+=300\n",
    "    print('Large pizza size is 300Rs. ')\n",
    "    \n",
    "add_pepperoni = input('Do you want to add pepperoni(y/n)? ')\n",
    "if add_pepperoni=='Y' or add_pepperoni=='y':\n",
    "    if size  =='S' or size=='s':\n",
    "        bill+=30\n",
    "    else:\n",
    "        bill+=50\n",
    "        \n",
    "extra_cheese = input('Do you want extra cheese(y/n)? ')\n",
    "if extra_cheese =='Y' or extra_cheese =='y':\n",
    "    bill+=20\n",
    "    \n",
    "print(f'your final bill is {bill}')\n",
    "        \n",
    "    "
   ]
  },
  {
   "cell_type": "code",
   "execution_count": null,
   "id": "ac85ae85",
   "metadata": {},
   "outputs": [],
   "source": []
  },
  {
   "cell_type": "code",
   "execution_count": null,
   "id": "251da5b0",
   "metadata": {},
   "outputs": [],
   "source": [
    "# love calculator\n",
    "name1 = input('what is your name? ')\n",
    "name2 = input('what is your name? ')\n",
    "combine_string = name1 + name2\n",
    "lower_case_string = combine_string.lower()\n",
    "\n",
    "t = lower_case_string.count('t')\n",
    "r = lower_case_string.count('r')\n",
    "u = lower_case_string.count('u')\n",
    "e = lower_case_string.count('e')\n",
    "true = t+r+u+e\n",
    "\n",
    "l = lower_case_string.count('l')\n",
    "o = lower_case_string.count('o')\n",
    "v = lower_case_string.count('v')\n",
    "e = lower_case_string.count('e')\n",
    "love= l+o+v+e\n",
    "\n",
    "love_score= int(str(true)+str(love))\n",
    "if  love_score <10 or love_score>90:\n",
    "    print(f'your love score is {love_score} and you go like coke and mentos')\n",
    "elif love_score>=40 or love_score<=50:\n",
    "    print(f'your score is {love_score} and you are alright together')\n",
    "else:\n",
    "    print(f'your love score is {love_score}')"
   ]
  },
  {
   "cell_type": "code",
   "execution_count": null,
   "id": "bc3db0b6",
   "metadata": {},
   "outputs": [],
   "source": []
  },
  {
   "cell_type": "code",
   "execution_count": null,
   "id": "33dea69e",
   "metadata": {},
   "outputs": [],
   "source": [
    "# random module , read more on the random module and learn more\n",
    "import random\n",
    "\n",
    "a= random.randint(1,3)\n",
    "b= random.randrange(1,3)\n",
    "c= random.random()\n",
    "d= random.uniform(1,3)\n",
    "\n",
    "\n",
    "print(a,b,c,d)"
   ]
  },
  {
   "cell_type": "code",
   "execution_count": null,
   "id": "55af8dfe",
   "metadata": {},
   "outputs": [],
   "source": []
  },
  {
   "cell_type": "code",
   "execution_count": null,
   "id": "234709ce",
   "metadata": {},
   "outputs": [],
   "source": [
    "# heads or tails\n",
    "\n",
    "#import random\n",
    "side= random.randint(0,1)\n",
    "#print(side)\n",
    "\n",
    "if side ==1:\n",
    "    print('heads')\n",
    "else:\n",
    "    print('tails')\n",
    "    \n"
   ]
  },
  {
   "cell_type": "code",
   "execution_count": null,
   "id": "3e785baa",
   "metadata": {},
   "outputs": [],
   "source": []
  },
  {
   "cell_type": "code",
   "execution_count": 1,
   "id": "d28c98d2",
   "metadata": {},
   "outputs": [
    {
     "name": "stdout",
     "output_type": "stream",
     "text": [
      "Enter everybody name seperated by a commaayiri,clinton,ijeoma,dennis\n",
      "clinton will pay the bill\n"
     ]
    }
   ],
   "source": [
    "import random\n",
    "\n",
    "names = input('Enter everybody name seperated by a comma')\n",
    "names_list = names.split(',')\n",
    "\n",
    "length =len(names_list)\n",
    "random_choice = random.randint(0,length-1)\n",
    "print(f'{names_list[random_choice]} will pay the bill')\n",
    "\n"
   ]
  },
  {
   "cell_type": "code",
   "execution_count": null,
   "id": "243c9f15",
   "metadata": {},
   "outputs": [],
   "source": []
  }
 ],
 "metadata": {
  "kernelspec": {
   "display_name": "Python 3 (ipykernel)",
   "language": "python",
   "name": "python3"
  },
  "language_info": {
   "codemirror_mode": {
    "name": "ipython",
    "version": 3
   },
   "file_extension": ".py",
   "mimetype": "text/x-python",
   "name": "python",
   "nbconvert_exporter": "python",
   "pygments_lexer": "ipython3",
   "version": "3.9.12"
  }
 },
 "nbformat": 4,
 "nbformat_minor": 5
}
