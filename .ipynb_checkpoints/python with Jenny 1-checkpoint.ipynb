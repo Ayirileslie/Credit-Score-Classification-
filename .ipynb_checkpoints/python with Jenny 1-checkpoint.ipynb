{
 "cells": [
  {
   "cell_type": "code",
   "execution_count": null,
   "id": "e012be20",
   "metadata": {},
   "outputs": [],
   "source": [
    "print(\"What to print\")"
   ]
  },
  {
   "cell_type": "code",
   "execution_count": null,
   "id": "d1e0b64a",
   "metadata": {},
   "outputs": [],
   "source": [
    "print('print(\"else where\")')"
   ]
  },
  {
   "cell_type": "code",
   "execution_count": null,
   "id": "351cecc2",
   "metadata": {},
   "outputs": [],
   "source": [
    "print('hello world\\nhello world\\nhello world')"
   ]
  },
  {
   "cell_type": "code",
   "execution_count": null,
   "id": "935a63c9",
   "metadata": {},
   "outputs": [],
   "source": [
    "print('hello '+'jenny')\n",
    "print('hello'+' '+'jenny')"
   ]
  },
  {
   "cell_type": "code",
   "execution_count": null,
   "id": "0cefee29",
   "metadata": {},
   "outputs": [],
   "source": [
    " print('hello'+' '+'jenny')"
   ]
  },
  {
   "cell_type": "code",
   "execution_count": null,
   "id": "7dec727a",
   "metadata": {},
   "outputs": [],
   "source": [
    "print('String Manipulation Exercise')\n",
    "print('String Concatenation is done with \"+\" sign' )\n",
    "print('eg print(\"hello \"+\"jenny\")')\n",
    "print('New lines can be created with a backlash and n')"
   ]
  },
  {
   "cell_type": "code",
   "execution_count": null,
   "id": "cc8f02ef",
   "metadata": {},
   "outputs": [],
   "source": [
    "# input function\n",
    "input(\"what is your name?\")"
   ]
  },
  {
   "cell_type": "code",
   "execution_count": null,
   "id": "8ad059e2",
   "metadata": {},
   "outputs": [],
   "source": [
    "print('Hello'+' '+input(\"what is your name?\"))"
   ]
  },
  {
   "cell_type": "code",
   "execution_count": null,
   "id": "dc4b54e1",
   "metadata": {},
   "outputs": [],
   "source": [
    "print('hey'+' '+input('What is your name ?')+' ,how'+' are'+' you ?')"
   ]
  },
  {
   "cell_type": "code",
   "execution_count": null,
   "id": "422c3955",
   "metadata": {},
   "outputs": [],
   "source": [
    "# python variable\n",
    "name = input(\"what is your name?\")\n",
    "print(len(name))"
   ]
  },
  {
   "cell_type": "code",
   "execution_count": null,
   "id": "0675b0ce",
   "metadata": {},
   "outputs": [],
   "source": [
    "name='jenny jhatru'\n",
    "print(name[2])"
   ]
  },
  {
   "cell_type": "code",
   "execution_count": null,
   "id": "99637e04",
   "metadata": {},
   "outputs": [],
   "source": [
    "number= input('enter a two digit number: ')\n",
    "\n",
    "first_digit =number[0]\n",
    "second_digit=number[1]\n",
    "\n",
    "sum1 = int(first_digit)+int(second_digit)\n",
    "print(sum1)"
   ]
  },
  {
   "cell_type": "code",
   "execution_count": null,
   "id": "c9b9c708",
   "metadata": {},
   "outputs": [],
   "source": [
    "number"
   ]
  },
  {
   "cell_type": "code",
   "execution_count": null,
   "id": "f1efd4a8",
   "metadata": {},
   "outputs": [],
   "source": [
    "a=5\n",
    "a=a+7\n",
    "print(a)"
   ]
  },
  {
   "cell_type": "code",
   "execution_count": null,
   "id": "5dc8e201",
   "metadata": {},
   "outputs": [],
   "source": [
    "a=6\n",
    "a+=8\n",
    "print(a)"
   ]
  },
  {
   "cell_type": "code",
   "execution_count": null,
   "id": "6ae482ea",
   "metadata": {},
   "outputs": [],
   "source": [
    "a,b,c=5,6,7"
   ]
  },
  {
   "cell_type": "code",
   "execution_count": null,
   "id": "514dfd13",
   "metadata": {},
   "outputs": [],
   "source": [
    "c"
   ]
  },
  {
   "cell_type": "code",
   "execution_count": null,
   "id": "7276ac51",
   "metadata": {},
   "outputs": [],
   "source": [
    "# relational or comparison operators gives you tru or false and we see them below\n",
    "\n",
    "a=5\n",
    "\n",
    "print(a==5)\n",
    "print(a<=5)\n",
    "print(a>5)\n",
    "print(a>=5)"
   ]
  },
  {
   "cell_type": "code",
   "execution_count": null,
   "id": "ec33b24c",
   "metadata": {},
   "outputs": [],
   "source": [
    "# logical operators are and, or, not\n",
    "a,b = 5,4\n",
    "c=True\n",
    "\n",
    "print(not(c))\n",
    "print(a<=4 and c)\n",
    "print(a>3 or b>5)\n"
   ]
  },
  {
   "cell_type": "code",
   "execution_count": null,
   "id": "ab43c833",
   "metadata": {},
   "outputs": [],
   "source": [
    "a,b=5,4\n",
    "\n",
    "print(a&b)\n",
    "print(a|b)\n",
    "print(a^b)\n",
    "print(~a)"
   ]
  },
  {
   "cell_type": "code",
   "execution_count": null,
   "id": "e824132a",
   "metadata": {},
   "outputs": [],
   "source": [
    "# membership operator\n",
    "\n",
    "stt = 'leslie'\n",
    "print('le' in stt)\n",
    "print('v' not in stt)\n",
    "\n",
    "y = [1,4,90]\n",
    "\n",
    "print(4 in y)"
   ]
  },
  {
   "cell_type": "code",
   "execution_count": null,
   "id": "6caabdc4",
   "metadata": {},
   "outputs": [],
   "source": [
    "y"
   ]
  },
  {
   "cell_type": "code",
   "execution_count": null,
   "id": "f8ca93b8",
   "metadata": {},
   "outputs": [],
   "source": [
    "type(y[0])"
   ]
  },
  {
   "cell_type": "code",
   "execution_count": null,
   "id": "9aa766fb",
   "metadata": {},
   "outputs": [],
   "source": [
    "weight = input('Enter input weight: ')\n",
    "height= input('Enter input height: ')\n",
    "\n",
    "bmi = int(weight)/float(height)**2\n",
    "\n",
    "print(int(bmi))"
   ]
  },
  {
   "cell_type": "code",
   "execution_count": null,
   "id": "e70db623",
   "metadata": {},
   "outputs": [],
   "source": [
    "bmi"
   ]
  },
  {
   "cell_type": "code",
   "execution_count": null,
   "id": "5d22a65d",
   "metadata": {},
   "outputs": [],
   "source": [
    "#Round function\n",
    "\n",
    "print(round(1212,-2))\n",
    "\n",
    "print(round(7.555))"
   ]
  },
  {
   "cell_type": "code",
   "execution_count": null,
   "id": "31793295",
   "metadata": {},
   "outputs": [],
   "source": [
    "#f string\n",
    "\n",
    "name ='shikiti'\n",
    "age =30\n",
    "height= 1.8\n",
    "\n",
    "print(f\"My name is {name} and i am {age} and my height is {height}\")"
   ]
  },
  {
   "cell_type": "code",
   "execution_count": null,
   "id": "aca7eb19",
   "metadata": {},
   "outputs": [],
   "source": [
    "age = int(input('Enter your age: '))\n",
    "\n",
    "years_left=  90-age\n",
    "days_left = years_left *365\n",
    "weeks_left =years_left*52\n",
    "months_left =years_left*12\n",
    "\n",
    "print(f'you have {years_left} years ,{days_left} days,{weeks_left} weeks, {days_left} days left.')"
   ]
  },
  {
   "cell_type": "code",
   "execution_count": null,
   "id": "f0343fb5",
   "metadata": {},
   "outputs": [],
   "source": [
    "# if else statement\n",
    "\n",
    "height = int(input('Enter height: '))\n",
    "\n",
    "if height> 3:\n",
    "    print('No token required')\n",
    "    print('cum outside')\n",
    "    \n",
    "else:\n",
    "    print('token required')"
   ]
  },
  {
   "cell_type": "code",
   "execution_count": null,
   "id": "338387b6",
   "metadata": {},
   "outputs": [],
   "source": [
    "number = int(input('Enter number: '))\n",
    "\n",
    "if number % 2 ==0 :\n",
    "    print('This is even number')\n",
    "    \n",
    "else:\n",
    "    print('This is odd number')"
   ]
  },
  {
   "cell_type": "code",
   "execution_count": 1,
   "id": "8a2de57d",
   "metadata": {},
   "outputs": [
    {
     "name": "stdout",
     "output_type": "stream",
     "text": [
      "what is your height? 5\n",
      "can ride\n",
      "what is your age18\n",
      "pay 250 Naira\n",
      "Bye\n"
     ]
    }
   ],
   "source": [
    "height = int(input('what is your height? '))\n",
    "\n",
    "if height>=3:\n",
    "    print('can ride')\n",
    "    age =int(input('what is your age? '))\n",
    "    if age <=18:\n",
    "        print('pay 250 Naira')\n",
    "    else:\n",
    "        print('pay 500 naira')\n",
    "else:\n",
    "    print('cant ride')\n",
    "    \n",
    "print('Bye')"
   ]
  },
  {
   "cell_type": "code",
   "execution_count": 2,
   "id": "4b64682a",
   "metadata": {},
   "outputs": [
    {
     "name": "stdout",
     "output_type": "stream",
     "text": [
      "hhh\n"
     ]
    }
   ],
   "source": [
    "print('hhh')"
   ]
  },
  {
   "cell_type": "code",
   "execution_count": 3,
   "id": "0c93cb3d",
   "metadata": {},
   "outputs": [
    {
     "name": "stdout",
     "output_type": "stream",
     "text": [
      "Enter weight in kg: 140\n",
      "Enter height in meters: 40\n",
      "your bmi is 0.0875 and you are underweight.\n"
     ]
    }
   ],
   "source": [
    "weight = float(input('Enter weight in kg: '))\n",
    "height = float(input('Enter height in meters: '))\n",
    "\n",
    "bmi = weight/height**2\n",
    "\n",
    "if bmi <18.5:\n",
    "    print(f'your bmi is {bmi} and you are underweight.')\n",
    "    \n",
    "elif bmi<25:\n",
    "    print(f'your bmi is {bmi} and you are normal weight.')\n",
    "elif bmi<30:\n",
    "    print(f'your bmi is {bmi} and you are overweight.')\n",
    "    \n",
    "elif bmi<35:\n",
    "        print(f'your bmi is {bmi} and you are obsese')\n",
    "else:\n",
    "    print('go to bed')"
   ]
  },
  {
   "cell_type": "code",
   "execution_count": null,
   "id": "11e58d17",
   "metadata": {},
   "outputs": [],
   "source": []
  }
 ],
 "metadata": {
  "kernelspec": {
   "display_name": "Python 3 (ipykernel)",
   "language": "python",
   "name": "python3"
  },
  "language_info": {
   "codemirror_mode": {
    "name": "ipython",
    "version": 3
   },
   "file_extension": ".py",
   "mimetype": "text/x-python",
   "name": "python",
   "nbconvert_exporter": "python",
   "pygments_lexer": "ipython3",
   "version": "3.9.12"
  }
 },
 "nbformat": 4,
 "nbformat_minor": 5
}
