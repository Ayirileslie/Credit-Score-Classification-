{
 "cells": [
  {
   "cell_type": "code",
   "execution_count": 2,
   "id": "1abc2e5d",
   "metadata": {},
   "outputs": [
    {
     "name": "stdout",
     "output_type": "stream",
     "text": [
      "(12, 6, -8, 'jenny', True)\n"
     ]
    }
   ],
   "source": [
    "# tuples\n",
    "tuple1 =(12,6,-8,'jenny',True)\n",
    "print(tuple1)\n"
   ]
  },
  {
   "cell_type": "code",
   "execution_count": 3,
   "id": "eebd2762",
   "metadata": {},
   "outputs": [
    {
     "data": {
      "text/plain": [
       "12"
      ]
     },
     "execution_count": 3,
     "metadata": {},
     "output_type": "execute_result"
    }
   ],
   "source": [
    "tuple1[0]"
   ]
  },
  {
   "cell_type": "code",
   "execution_count": 7,
   "id": "0a37aafe",
   "metadata": {},
   "outputs": [
    {
     "name": "stdout",
     "output_type": "stream",
     "text": [
      "{34, 4, 'yiriboy', 56, 10}\n",
      "<class 'set'>\n"
     ]
    }
   ],
   "source": [
    "#sets like tuples and list are also used to store multiple values in a variable\n",
    "#set doesnt allow duplicate items but in list and tuples they are allowed, set items are also unordered and so therefore indexing isnt allowed\n",
    "#you cant interchange items because indexing isnt allowed but items can be added and subtracted\n",
    "\n",
    "set1 = {10,56,4,34,'yiriboy'}\n",
    "print(set1)\n",
    "set2= set() #empty set\n",
    "print(type(set2))\n",
    "#slicing also not allowed"
   ]
  },
  {
   "cell_type": "code",
   "execution_count": 9,
   "id": "455306b2",
   "metadata": {},
   "outputs": [
    {
     "name": "stdout",
     "output_type": "stream",
     "text": [
      "{34, 99, 4, 'yiriboy', 56, 10}\n"
     ]
    }
   ],
   "source": [
    "set1.add(99)\n",
    "\n",
    "print(set1)\n"
   ]
  },
  {
   "cell_type": "code",
   "execution_count": 10,
   "id": "aa8cba6c",
   "metadata": {},
   "outputs": [
    {
     "name": "stdout",
     "output_type": "stream",
     "text": [
      "{34, 99, 'yiriboy', 56, 10}\n"
     ]
    }
   ],
   "source": [
    "set1.remove(4)\n",
    "print(set1)"
   ]
  },
  {
   "cell_type": "code",
   "execution_count": 14,
   "id": "1ff07768",
   "metadata": {},
   "outputs": [
    {
     "name": "stdout",
     "output_type": "stream",
     "text": [
      "{'mohan', 'abraham', 'esau', 'jacob', 'james'}\n",
      "{'esau', 'raquel', 'jacob', 'tenorin', 'abraham'}\n"
     ]
    }
   ],
   "source": [
    "#operations in set\n",
    "\n",
    "set1 ={'jacob','esau','abraham'}\n",
    "set2 ={'raquel','esau','tenorin'}\n",
    "\n",
    "print(set1.union(('mohan','james')))\n",
    "\n",
    "print(set1|set2)\n",
    "\n",
    "#we can also do union on more than 2 set\n",
    "\n",
    "#to update we use set1.update(set2) or set1 |= set2\n",
    "\n",
    "\n"
   ]
  },
  {
   "cell_type": "code",
   "execution_count": 15,
   "id": "b91da00d",
   "metadata": {},
   "outputs": [
    {
     "name": "stdout",
     "output_type": "stream",
     "text": [
      "{'esau'}\n"
     ]
    }
   ],
   "source": [
    "print(set1.intersection(set2))"
   ]
  },
  {
   "cell_type": "code",
   "execution_count": 16,
   "id": "05f5d77a",
   "metadata": {},
   "outputs": [
    {
     "name": "stdout",
     "output_type": "stream",
     "text": [
      "{'esau'}\n"
     ]
    }
   ],
   "source": [
    "print(set1&set2)#also intersection"
   ]
  },
  {
   "cell_type": "code",
   "execution_count": 19,
   "id": "995a7266",
   "metadata": {},
   "outputs": [
    {
     "name": "stdout",
     "output_type": "stream",
     "text": [
      "{'shyam', 'ram'}\n",
      "{'shyam', 'ram'}\n"
     ]
    }
   ],
   "source": [
    "#\n",
    "\n",
    "set1 = {'ram','shyam','jenny'}\n",
    "set2 ={'jenny','jiya','Aakash'}\n",
    "set3 ={'ankur','pradeep'}\n",
    "\n",
    "print(set1.difference(set2,set3))\n",
    "print(set1-set2)"
   ]
  },
  {
   "cell_type": "code",
   "execution_count": 21,
   "id": "cde48fcf",
   "metadata": {},
   "outputs": [
    {
     "name": "stdout",
     "output_type": "stream",
     "text": [
      "True\n"
     ]
    }
   ],
   "source": [
    "set1 = {'ram','shyam','jenny'}\n",
    "set2 ={'jiya','Aakash'}\n",
    "print(set1.isdisjoint(set2))"
   ]
  },
  {
   "cell_type": "code",
   "execution_count": null,
   "id": "f8619328",
   "metadata": {},
   "outputs": [],
   "source": []
  }
 ],
 "metadata": {
  "kernelspec": {
   "display_name": "Python 3 (ipykernel)",
   "language": "python",
   "name": "python3"
  },
  "language_info": {
   "codemirror_mode": {
    "name": "ipython",
    "version": 3
   },
   "file_extension": ".py",
   "mimetype": "text/x-python",
   "name": "python",
   "nbconvert_exporter": "python",
   "pygments_lexer": "ipython3",
   "version": "3.9.12"
  }
 },
 "nbformat": 4,
 "nbformat_minor": 5
}
